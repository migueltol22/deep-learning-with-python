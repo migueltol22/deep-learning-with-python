{
 "cells": [
  {
   "cell_type": "code",
   "execution_count": 3,
   "metadata": {},
   "outputs": [
    {
     "name": "stdout",
     "output_type": "stream",
     "text": [
      "Loading data...\n",
      "25000 train sequences\n",
      "25000 test sequences\n",
      "pad sequences (samples x time)\n",
      "input train shape:  (25000, 500)\n",
      "input test shape:  (25000, 500)\n"
     ]
    }
   ],
   "source": [
    "# preparing the data\n",
    "from keras.datasets import imdb\n",
    "from keras.preprocessing import sequence\n",
    "\n",
    "# number of words to consider as features\n",
    "max_features = 10000\n",
    "# cut off text point\n",
    "maxlen = 500\n",
    "batch_size = 18\n",
    "\n",
    "print('Loading data...')\n",
    "(input_train, y_train), (input_test, y_test) = imdb.load_data(num_words=max_features)\n",
    "print(len(input_train), 'train sequences')\n",
    "print(len(input_test), 'test sequences')\n",
    "\n",
    "print('pad sequences (samples x time)')\n",
    "input_train = sequence.pad_sequences(input_train, maxlen=maxlen)\n",
    "input_test = sequence.pad_sequences(input_test, maxlen=maxlen)\n",
    "print('input train shape: ', input_train.shape)\n",
    "print('input test shape: ', input_test.shape)"
   ]
  },
  {
   "cell_type": "code",
   "execution_count": null,
   "metadata": {},
   "outputs": [
    {
     "name": "stdout",
     "output_type": "stream",
     "text": [
      "Train on 20000 samples, validate on 5000 samples\n",
      "Epoch 1/10\n",
      "20000/20000 [==============================] - 215s 11ms/step - loss: 0.5544 - acc: 0.6977 - val_loss: 0.3968 - val_acc: 0.8296\n",
      "Epoch 2/10\n",
      "20000/20000 [==============================] - 214s 11ms/step - loss: 0.3534 - acc: 0.8542 - val_loss: 0.4359 - val_acc: 0.8282\n",
      "Epoch 3/10\n",
      "20000/20000 [==============================] - 214s 11ms/step - loss: 0.2845 - acc: 0.8904 - val_loss: 0.3375 - val_acc: 0.8762\n",
      "Epoch 4/10\n",
      "16290/20000 [=======================>......] - ETA: 37s - loss: 0.2508 - acc: 0.9039"
     ]
    }
   ],
   "source": [
    "# train model with embedding and simplernn layers\n",
    "from keras.layers import Dense\n",
    "from keras.layers import Embedding\n",
    "from keras.layers import SimpleRNN\n",
    "from keras.models import Sequential\n",
    "\n",
    "model = Sequential()\n",
    "model.add(Embedding(max_features, 32))\n",
    "model.add(SimpleRNN(32))\n",
    "model.add(Dense(1, activation='sigmoid'))\n",
    "\n",
    "model.compile(optimizer='rmsprop',\n",
    "              loss='binary_crossentropy',\n",
    "              metrics=['acc'])\n",
    "\n",
    "history = model.fit(input_train, y_train,\n",
    "                    epochs=10,\n",
    "                    batch_size=batch_size,\n",
    "                    validation_split=0.2)"
   ]
  },
  {
   "cell_type": "code",
   "execution_count": null,
   "metadata": {},
   "outputs": [],
   "source": []
  }
 ],
 "metadata": {
  "kernelspec": {
   "display_name": "Python 3",
   "language": "python",
   "name": "python3"
  },
  "language_info": {
   "codemirror_mode": {
    "name": "ipython",
    "version": 3
   },
   "file_extension": ".py",
   "mimetype": "text/x-python",
   "name": "python",
   "nbconvert_exporter": "python",
   "pygments_lexer": "ipython3",
   "version": "3.6.5"
  }
 },
 "nbformat": 4,
 "nbformat_minor": 2
}
